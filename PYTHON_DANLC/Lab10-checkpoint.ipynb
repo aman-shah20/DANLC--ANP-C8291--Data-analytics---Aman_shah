{
 "cells": [
  {
   "cell_type": "code",
   "execution_count": null,
   "id": "bf9d0ec0-4877-4ae0-a4ab-761fcb1e4c91",
   "metadata": {},
   "outputs": [
    {
     "name": "stdout",
     "output_type": "stream",
     "text": [
      "55\n"
     ]
    }
   ],
   "source": [
    "#1. Write a Python program to sum all the items in a list. \n",
    "\n",
    "list1 = [1,2,3,4,5,6,7,8,9,10]\n",
    "sum=0\n",
    "for i in list1:\n",
    "    sum+=i\n",
    "print(sum)"
   ]
  },
  {
   "cell_type": "code",
   "execution_count": 2,
   "id": "0b8bc808-1074-48b8-87bf-6293baa8eb1b",
   "metadata": {},
   "outputs": [
    {
     "name": "stdout",
     "output_type": "stream",
     "text": [
      "[9, 10, 11, 14, 15, 16, 20, 31, 70, 88]\n",
      "the largest number is 88 and the smallest number is 9\n"
     ]
    }
   ],
   "source": [
    "#2. Write a Python program to get the largest and smallest number from a list without builtin functions. \n",
    "\n",
    "list1 = [11,20,31,14,15,16,70,88,9,10]\n",
    "sort_list = list1.sort()\n",
    "print(list1)\n",
    "print(f\"the largest number is {list1[-1]} and the smallest number is {list1[0]}\")\n",
    "        "
   ]
  },
  {
   "cell_type": "code",
   "execution_count": null,
   "id": "b0489a1c-7b95-4297-8c7c-dee8c9b81fde",
   "metadata": {},
   "outputs": [
    {
     "name": "stdout",
     "output_type": "stream",
     "text": [
      "duplicate values are :  [1, 2, 3]\n"
     ]
    }
   ],
   "source": [
    "#. Write a Python program to find duplicate values from a list and display those.\n",
    "\n",
    "list1 = [1,2,3,4,5,3,2,1,6,7,8,2]\n",
    "list2=[]\n",
    "for i in range(len(list1)):\n",
    "    for j in range(i+1,len(list1)):\n",
    "        if list1[i]==list1[j] and list1[i] not in list2:\n",
    "            list2.append(list1[i])\n",
    "print(\"duplicate values are : \",list2)\n"
   ]
  },
  {
   "cell_type": "code",
   "execution_count": null,
   "id": "e45c2ff8-1385-4839-bc2c-c5c008e6440a",
   "metadata": {},
   "outputs": [
    {
     "name": "stdout",
     "output_type": "stream",
     "text": [
      "original list:  [1, 1, 2, 3, 4, 4, 5, 1]\n",
      "first part of list:  [1, 1, 2]\n",
      "second part of list:  [3, 4, 4, 5, 1]\n"
     ]
    }
   ],
   "source": [
    "# 4. Write a Python program to split a given list into two parts where the length of the first part of the list is given. \n",
    "# Original list: [1, 1, 2, 3, 4, 4, 5, 1]\n",
    "# Length of the first part of the list: 3 \n",
    "# Splitted the said list into two parts: ([1, 1, 2], [3, 4, 4, 5, 1]) \n",
    "\n",
    "\n",
    "ol=[1, 1, 2, 3, 4, 4, 5, 1]\n",
    "\n",
    "first_part_list = 3\n",
    "\n",
    "first_list = ol[:first_part_list]\n",
    "second_list = ol[first_part_list:]\n",
    "\n",
    "print(\"original list: \",ol)\n",
    "print(\"first part of list: \",first_list)\n",
    "print(\"second part of list: \",second_list)\n"
   ]
  },
  {
   "cell_type": "code",
   "execution_count": null,
   "id": "73ba5252-94f1-4bde-8191-65ee955943fc",
   "metadata": {},
   "outputs": [
    {
     "name": "stdout",
     "output_type": "stream",
     "text": [
      "['black', 'white', 'green', 'red']\n"
     ]
    }
   ],
   "source": [
    "# 5. Write a Python program to traverse a given list in reverse order, and print the elements with the original index. \n",
    "# Original list: ['red', 'green', 'white', 'black'] \n",
    "# Traverse the said list in reverse order: black white green red\n",
    "\n",
    "Original_list = ['red', 'green', 'white', 'black']\n",
    "\n",
    "print(Original_list[::-1])\n",
    "\n"
   ]
  },
  {
   "cell_type": "code",
   "execution_count": null,
   "id": "305e8973-96af-41a5-af95-6eafeaedfaac",
   "metadata": {},
   "outputs": [
    {
     "name": "stdout",
     "output_type": "stream",
     "text": [
      "second element of the first list:  2\n",
      "third element of the third list:  9\n"
     ]
    }
   ],
   "source": [
    "#6. Given the nested list `matrix = [[1, 2, 3], [4, 5, 6], [7, 8, 9]]`, write code to print the second element of the \n",
    "#first list and the third element of the third list.\n",
    "\n",
    "matrix = [[1, 2, 3], [4, 5, 6], [7, 8, 9]]\n",
    "print(\"second element of the first list: \",matrix[0][1])\n",
    "print(\"third element of the third list: \",matrix[2][2])"
   ]
  },
  {
   "cell_type": "code",
   "execution_count": 3,
   "id": "31e62c21-72dc-4195-b67b-b689eaa81fa8",
   "metadata": {},
   "outputs": [
    {
     "name": "stdout",
     "output_type": "stream",
     "text": [
      "[[1, 4, 7], [2, 5, 8], [3, 6, 9]]\n"
     ]
    }
   ],
   "source": [
    "#7. Write a function `transpose(matrix)` that takes a matrix (list of lists) and returns its transpose.\n",
    "\n",
    "\n",
    "def transpose(matrix1):\n",
    "    matrix = [[1,2,3],[4,5,6],[7,8,9]]\n",
    "    length  = len(matrix1)\n",
    "    for i in range(length):\n",
    "        for j in range(length):\n",
    "            matrix[i][j]=matrix1[j][i]\n",
    "    return matrix\n",
    "matrix1 = [[1,2,3],[4,5,6],[7,8,9]]\n",
    "print(transpose(matrix1))"
   ]
  },
  {
   "cell_type": "code",
   "execution_count": null,
   "id": "1dad8b3b-1774-4d90-8adc-13fd998dbc1c",
   "metadata": {
    "jupyter": {
     "source_hidden": true
    }
   },
   "outputs": [
    {
     "name": "stdout",
     "output_type": "stream",
     "text": [
      "[20, 10]\n"
     ]
    }
   ],
   "source": [
    "#8. Given the list `numbers = [15, 3, 7, 20, 13, 9, 25, 1, 10]`, write a list comprehension to create a new list containing only the even numbers.\n",
    "\n",
    "numbers = [15, 3, 7, 20, 13, 9, 25, 1, 10]\n",
    "\n",
    "even_numbers = [num for num in numbers if num % 2 == 0]\n",
    "print(even_numbers)"
   ]
  },
  {
   "cell_type": "code",
   "execution_count": null,
   "id": "b33a2ea2-f749-4248-864b-d4b351edc0fd",
   "metadata": {},
   "outputs": [
    {
     "name": "stdout",
     "output_type": "stream",
     "text": [
      "merge of a and b:  [1, 2, 3, 4, 5, 6]\n",
      "[1, 2, 3, 4, 5, 6]\n"
     ]
    }
   ],
   "source": [
    "#9. Given two lists `a = [1, 2, 3]` and `b = [4, 5, 6]`, write code to merge them into a single list and then flatten a list of\n",
    "#lists `c = [[1, 2], [3, 4], [5, 6]]`into a single list.\n",
    "\n",
    "a = [1, 2, 3]\n",
    "b = [4, 5, 6]\n",
    "a.extend(b)\n",
    "print(\"merge of a and b: \",a)\n",
    "\n",
    "c = [[1, 2], [3, 4], [5, 6]]\n",
    "result = [n for list in c for n in list]\n",
    "print(result)\n",
    "\n"
   ]
  },
  {
   "cell_type": "code",
   "execution_count": 5,
   "id": "eb0458c6-a384-45bf-abc5-db8a62db0a68",
   "metadata": {},
   "outputs": [
    {
     "name": "stdin",
     "output_type": "stream",
     "text": [
      "Enter the Numbers :  1\n",
      "Enter the Numbers :  2\n",
      "Enter the Numbers :  3\n",
      "Enter the Numbers :  4\n",
      "Enter the Numbers :  5\n"
     ]
    },
    {
     "name": "stdout",
     "output_type": "stream",
     "text": [
      "The Rotated List is :  [4, 5, 1, 2, 3]\n"
     ]
    }
   ],
   "source": [
    "#10. Write a function `rotate_list(lst, k)` that rotates a list to the right by `k` positions. For example, `rotate_list([1, 2, 3, 4, 5], 2)`\n",
    "#should return `[4, 5, 1, 2, 3]`.\n",
    "\n",
    "\n",
    "def rotate_list(lst,k):\n",
    "    a = len(lst)\n",
    "    temp = lst[-k:]\n",
    "\n",
    "    for i in range(a-1, k-1,-1):\n",
    "        lst[i] = lst[i-k]\n",
    "\n",
    "    lst[:k] = temp\n",
    "    return lst\n",
    "List_1 = []\n",
    "size = 5\n",
    "for _ in range(size):\n",
    "    List_1.append(int(input(\"Enter the Numbers : \")))\n",
    "k = 2\n",
    "\n",
    "print(\"The Rotated List is : \", rotate_list(List_1,k))\n",
    "\n",
    "\n"
   ]
  }
 ],
 "metadata": {
  "kernelspec": {
   "display_name": "Python 3 (ipykernel)",
   "language": "python",
   "name": "python3"
  },
  "language_info": {
   "codemirror_mode": {
    "name": "ipython",
    "version": 3
   },
   "file_extension": ".py",
   "mimetype": "text/x-python",
   "name": "python",
   "nbconvert_exporter": "python",
   "pygments_lexer": "ipython3",
   "version": "3.12.4"
  }
 },
 "nbformat": 4,
 "nbformat_minor": 5
}
