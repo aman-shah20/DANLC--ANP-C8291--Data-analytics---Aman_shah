{
 "cells": [
  {
   "cell_type": "code",
   "execution_count": 31,
   "id": "2751d76e",
   "metadata": {},
   "outputs": [
    {
     "name": "stdout",
     "output_type": "stream",
     "text": [
      "An array of ten zeroes:  [0 0 0 0 0 0 0 0 0 0]\n",
      "An array of ten ones:  [1 1 1 1 1 1 1 1 1 1]\n",
      "An array of ten fives:  [5 5 5 5 5 5 5 5 5 5]\n"
     ]
    }
   ],
   "source": [
    "# 1. Write a NumPy program to create an array of 10 zeros, 10 ones, and 10 fives.\n",
    "\n",
    "import numpy as np\n",
    "\n",
    "zeroes = np.array([0,0,0,0,0,0,0,0,0,0])\n",
    "print(\"An array of ten zeroes: \",zeroes)\n",
    "ones = np.array([1,1,1,1,1,1,1,1,1,1])\n",
    "print(\"An array of ten ones: \",ones)\n",
    "fives = np.array([5,5,5,5,5,5,5,5,5,5])\n",
    "print(\"An array of ten fives: \",fives)"
   ]
  },
  {
   "cell_type": "code",
   "execution_count": 19,
   "id": "2fb4270e",
   "metadata": {},
   "outputs": [
    {
     "name": "stdout",
     "output_type": "stream",
     "text": [
      "[[ 2  3  4]\n",
      " [ 5  6  7]\n",
      " [ 8  9 10]]\n"
     ]
    }
   ],
   "source": [
    "# 2. Write a NumPy program to create a 3x3 matrix with values ranging from 2 to 10.\n",
    "\n",
    "import numpy as np\n",
    "\n",
    "a1 = np.arange(2, 11)\n",
    "new_a1 = a1.reshape(3, 3)\n",
    "\n",
    "print(new_a1)\n"
   ]
  },
  {
   "cell_type": "code",
   "execution_count": 25,
   "id": "b2febe38",
   "metadata": {},
   "outputs": [
    {
     "data": {
      "text/plain": [
       "array([12, 13, 14, 15, 16, 17, 18, 19, 20, 21, 22, 23, 24, 25, 26, 27, 28,\n",
       "       29, 30, 31, 32, 33, 34, 35, 36, 37])"
      ]
     },
     "execution_count": 25,
     "metadata": {},
     "output_type": "execute_result"
    }
   ],
   "source": [
    "# 3. Write a NumPy program to create an array with values ranging from 12 to 38.\n",
    "\n",
    "import numpy as np\n",
    "a1 = np.arange(12,38)\n",
    "a1"
   ]
  },
  {
   "cell_type": "code",
   "execution_count": 30,
   "id": "713a0a0e",
   "metadata": {},
   "outputs": [
    {
     "name": "stdout",
     "output_type": "stream",
     "text": [
      "list to array:  [1 2 3 4 5 6 7 8]\n",
      "tuple to array:  [[8 4 6]\n",
      " [1 2 3]]\n"
     ]
    }
   ],
   "source": [
    "# 4. Write a NumPy program to convert a list and tuple into arrays.\n",
    "# Input: my_list = [1, 2, 3, 4, 5, 6, 7, 8]\n",
    "# Input: my_tuple = ([8, 4, 6], [1, 2, 3])\n",
    "\n",
    "import numpy as np\n",
    "\n",
    "my_list = [1, 2, 3, 4, 5, 6, 7, 8]\n",
    "my_tuple = ([8, 4, 6], [1, 2, 3])\n",
    "\n",
    "alist = np.array(my_list)\n",
    "atuple = np.array(my_tuple)\n",
    "print(\"list to array: \",alist)\n",
    "print(\"tuple to array: \",atuple)\n",
    "\n",
    "\n"
   ]
  },
  {
   "cell_type": "code",
   "execution_count": null,
   "id": "4de4bb92",
   "metadata": {},
   "outputs": [],
   "source": []
  }
 ],
 "metadata": {
  "kernelspec": {
   "display_name": "Python 3 (ipykernel)",
   "language": "python",
   "name": "python3"
  },
  "language_info": {
   "codemirror_mode": {
    "name": "ipython",
    "version": 3
   },
   "file_extension": ".py",
   "mimetype": "text/x-python",
   "name": "python",
   "nbconvert_exporter": "python",
   "pygments_lexer": "ipython3",
   "version": "3.10.9"
  }
 },
 "nbformat": 4,
 "nbformat_minor": 5
}
