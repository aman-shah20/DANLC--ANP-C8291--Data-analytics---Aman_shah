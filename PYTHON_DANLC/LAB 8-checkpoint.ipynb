{
 "cells": [
  {
   "cell_type": "code",
   "execution_count": 7,
   "id": "299bc248",
   "metadata": {},
   "outputs": [
    {
     "name": "stdout",
     "output_type": "stream",
     "text": [
      "In today's rapidly evolving technological landscape, the integration of artificial intelligence (AI) into everyday life has become increasingly prevalent. From smart home devices that automate routine tasks to sophisticated algorithms that enhance medical diagnostics, AI is revolutionizing various industries. This transformation brings numerous benefits, such as improved efficiency, accuracy, and convenience. For instance, AI-powered applications can analyze vast amounts of data in real-time, providing insights that were previously unattainable. In healthcare, AI algorithms assist doctors in diagnosing diseases with greater precision, potentially saving countless lives. Additionally, AI-driven automation in manufacturing boosts productivity and reduces human error. However, the widespread adoption of AI also raises ethical and societal concerns. Issues such as data privacy, job displacement, and the potential for biased algorithms necessitate careful consideration and regulation. Ensuring that AI technologies are developed and deployed responsibly is crucial to mitigating these risks. Public awareness and engagement in discussions about AI's impact are essential for shaping a future where technology serves humanity's best interests. By fostering a collaborative approach between technologists, policymakers, and the public, we can harness the transformative power of AI while addressing its challenges effectively. In conclusion, AI holds immense potential to drive progress and innovation, but its successful integration into society requires a balanced and ethical approach.\n"
     ]
    }
   ],
   "source": [
    "#1 Write a function in python to read the content from a text file \"ABC.txt\" line by line and display the same on screen\n",
    "\n",
    "with open(\"demo.txt\",\"r\") as file:\n",
    "          for line in file:\n",
    "              print(line)\n",
    "          \n",
    "          "
   ]
  },
  {
   "cell_type": "code",
   "execution_count": 11,
   "id": "2caf2588",
   "metadata": {},
   "outputs": [
    {
     "name": "stdout",
     "output_type": "stream",
     "text": [
      "209\n"
     ]
    }
   ],
   "source": [
    "#2  Write a function in Python to count and display the total number of words in a text file “ABC.txt”\n",
    "\n",
    "def word_cuntor(x):\n",
    "    with open(x,\"r\") as file:\n",
    "        content = file.read()\n",
    "        word = content.split()\n",
    "        a=len(word)\n",
    "    print(a)\n",
    "\n",
    "word_cuntor(\"demo.txt\")\n"
   ]
  },
  {
   "cell_type": "code",
   "execution_count": 9,
   "id": "216d9253",
   "metadata": {},
   "outputs": [
    {
     "name": "stdout",
     "output_type": "stream",
     "text": [
      "32\n"
     ]
    }
   ],
   "source": [
    "#3 Write a function in Python to count uppercase character in a text file “ABC.txt” \n",
    "\n",
    "def count_upper(file_name):\n",
    "    with open(file_name,\"r\") as file:\n",
    "        count=0\n",
    "        content = file.read()\n",
    "        word = content.split()\n",
    "        for text in content:\n",
    "            if text.isupper():\n",
    "                count+=1\n",
    "        print(count)\n",
    "count_upper(\"demo.txt\")"
   ]
  },
  {
   "cell_type": "code",
   "execution_count": 20,
   "id": "1f847906",
   "metadata": {},
   "outputs": [
    {
     "name": "stdout",
     "output_type": "stream",
     "text": [
      "In\tthe\tof\thas\tto\tAI\tis\tas\tand\tFor\tcan\tof\tin\tIn\tAI\tin\tin\tand\tthe\tof\tAI\tand\tas\tjob\tand\tthe\tfor\tand\tAI\tare\tand\tis\tto\tand\tin\tare\tfor\ta\tBy\ta\tand\tthe\twe\tcan\tthe\tof\tAI\tits\tIn\tAI\tto\tand\tbut\tits\ta\tand\t"
     ]
    }
   ],
   "source": [
    "#4 Write a function display_words() in python to read lines from a text file \"story.txt\", \n",
    "#and display those words, which are less than 4 characters.\n",
    "\n",
    "with open(\"demo.txt\",\"r\") as file:\n",
    "    content = file.read()\n",
    "    word = content.split()\n",
    "    for text in word:\n",
    "        if len(text)<4:\n",
    "            print(text,end=\"\\t\")\n",
    "\n"
   ]
  },
  {
   "cell_type": "code",
   "execution_count": 21,
   "id": "b831e50b",
   "metadata": {},
   "outputs": [
    {
     "name": "stdout",
     "output_type": "stream",
     "text": [
      "enter your file name or path: demo.txt\n",
      "enter your file destination path: new.txt\n"
     ]
    },
    {
     "ename": "FileNotFoundError",
     "evalue": "[Errno 2] No such file or directory: 'read_file'",
     "output_type": "error",
     "traceback": [
      "\u001b[1;31m---------------------------------------------------------------------------\u001b[0m",
      "\u001b[1;31mFileNotFoundError\u001b[0m                         Traceback (most recent call last)",
      "Cell \u001b[1;32mIn[21], line 5\u001b[0m\n\u001b[0;32m      3\u001b[0m read_file \u001b[38;5;241m=\u001b[39m \u001b[38;5;28minput\u001b[39m(\u001b[38;5;124m\"\u001b[39m\u001b[38;5;124menter your file name or path: \u001b[39m\u001b[38;5;124m\"\u001b[39m)\n\u001b[0;32m      4\u001b[0m write_file \u001b[38;5;241m=\u001b[39m \u001b[38;5;28minput\u001b[39m(\u001b[38;5;124m\"\u001b[39m\u001b[38;5;124menter your file destination path: \u001b[39m\u001b[38;5;124m\"\u001b[39m)\n\u001b[1;32m----> 5\u001b[0m \u001b[38;5;28;01mwith\u001b[39;00m \u001b[38;5;28;43mopen\u001b[39;49m\u001b[43m(\u001b[49m\u001b[38;5;124;43m\"\u001b[39;49m\u001b[38;5;124;43mread_file\u001b[39;49m\u001b[38;5;124;43m\"\u001b[39;49m\u001b[43m,\u001b[49m\u001b[38;5;124;43m\"\u001b[39;49m\u001b[38;5;124;43mr\u001b[39;49m\u001b[38;5;124;43m\"\u001b[39;49m\u001b[43m)\u001b[49m \u001b[38;5;28;01mas\u001b[39;00m file1:\n\u001b[0;32m      6\u001b[0m     content \u001b[38;5;241m=\u001b[39m file\u001b[38;5;241m.\u001b[39mread()\n\u001b[0;32m      7\u001b[0m \u001b[38;5;28;01mwith\u001b[39;00m \u001b[38;5;28mopen\u001b[39m(\u001b[38;5;124m\"\u001b[39m\u001b[38;5;124mwrite_fle\u001b[39m\u001b[38;5;124m\"\u001b[39m,\u001b[38;5;124m\"\u001b[39m\u001b[38;5;124mw\u001b[39m\u001b[38;5;124m\"\u001b[39m) \u001b[38;5;28;01mas\u001b[39;00m file2:\n",
      "File \u001b[1;32m~\\anaconda3\\lib\\site-packages\\IPython\\core\\interactiveshell.py:282\u001b[0m, in \u001b[0;36m_modified_open\u001b[1;34m(file, *args, **kwargs)\u001b[0m\n\u001b[0;32m    275\u001b[0m \u001b[38;5;28;01mif\u001b[39;00m file \u001b[38;5;129;01min\u001b[39;00m {\u001b[38;5;241m0\u001b[39m, \u001b[38;5;241m1\u001b[39m, \u001b[38;5;241m2\u001b[39m}:\n\u001b[0;32m    276\u001b[0m     \u001b[38;5;28;01mraise\u001b[39;00m \u001b[38;5;167;01mValueError\u001b[39;00m(\n\u001b[0;32m    277\u001b[0m         \u001b[38;5;124mf\u001b[39m\u001b[38;5;124m\"\u001b[39m\u001b[38;5;124mIPython won\u001b[39m\u001b[38;5;124m'\u001b[39m\u001b[38;5;124mt let you open fd=\u001b[39m\u001b[38;5;132;01m{\u001b[39;00mfile\u001b[38;5;132;01m}\u001b[39;00m\u001b[38;5;124m by default \u001b[39m\u001b[38;5;124m\"\u001b[39m\n\u001b[0;32m    278\u001b[0m         \u001b[38;5;124m\"\u001b[39m\u001b[38;5;124mas it is likely to crash IPython. If you know what you are doing, \u001b[39m\u001b[38;5;124m\"\u001b[39m\n\u001b[0;32m    279\u001b[0m         \u001b[38;5;124m\"\u001b[39m\u001b[38;5;124myou can use builtins\u001b[39m\u001b[38;5;124m'\u001b[39m\u001b[38;5;124m open.\u001b[39m\u001b[38;5;124m\"\u001b[39m\n\u001b[0;32m    280\u001b[0m     )\n\u001b[1;32m--> 282\u001b[0m \u001b[38;5;28;01mreturn\u001b[39;00m io_open(file, \u001b[38;5;241m*\u001b[39margs, \u001b[38;5;241m*\u001b[39m\u001b[38;5;241m*\u001b[39mkwargs)\n",
      "\u001b[1;31mFileNotFoundError\u001b[0m: [Errno 2] No such file or directory: 'read_file'"
     ]
    }
   ],
   "source": [
    "#5 wap to copy the contents of one file into another. input both file names with path from user\n",
    "\n",
    "read_file = input(\"enter your file name or path: \")\n",
    "write_file = input(\"enter your file destination path: \")\n",
    "with open(\"read_file\",\"r\") as file1:\n",
    "    content = file.read()\n",
    "with open(\"write_fle\",\"w\") as file2:\n",
    "    file2.write(content)\n",
    "    if file2 !=0:\n",
    "        print(\"content copied succesfully!\")\n",
    "    else:\n",
    "        print(\"file not copied\")"
   ]
  },
  {
   "cell_type": "code",
   "execution_count": null,
   "id": "d6bba1b3",
   "metadata": {},
   "outputs": [],
   "source": []
  }
 ],
 "metadata": {
  "kernelspec": {
   "display_name": "Python 3 (ipykernel)",
   "language": "python",
   "name": "python3"
  },
  "language_info": {
   "codemirror_mode": {
    "name": "ipython",
    "version": 3
   },
   "file_extension": ".py",
   "mimetype": "text/x-python",
   "name": "python",
   "nbconvert_exporter": "python",
   "pygments_lexer": "ipython3",
   "version": "3.10.9"
  }
 },
 "nbformat": 4,
 "nbformat_minor": 5
}
