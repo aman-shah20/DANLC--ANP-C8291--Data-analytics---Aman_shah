{
 "cells": [
  {
   "cell_type": "code",
   "execution_count": 6,
   "id": "85f1bc1d",
   "metadata": {},
   "outputs": [
    {
     "name": "stdout",
     "output_type": "stream",
     "text": [
      "The first 10 prime numbers are:\n",
      "[2, 3, 5, 7, 11, 13, 17, 19, 23, 29]\n"
     ]
    }
   ],
   "source": [
    "#Q1. Wap to print first 10 prime numbers\n",
    "\n",
    "import math\n",
    "def is_prime(number):\n",
    "    if number <= 1:\n",
    "        return False\n",
    "    for i in range(2, int(math.sqrt(number)) + 1):\n",
    "        if number % i == 0:\n",
    "            return False\n",
    "    return True\n",
    "\n",
    "primeNumbers = []\n",
    "number = 2  # Start checking from the first prime number\n",
    "    \n",
    "while len(primeNumbers) < 10:\n",
    "    if is_prime(number):\n",
    "        primeNumbers.append(number)\n",
    "    number += 1\n",
    "    \n",
    "print(\"The first 10 prime numbers are:\")\n",
    "print(primeNumbers)"
   ]
  },
  {
   "cell_type": "code",
   "execution_count": 7,
   "id": "070501fc",
   "metadata": {},
   "outputs": [
    {
     "name": "stdout",
     "output_type": "stream",
     "text": [
      "Enter the start of the range: 1\n",
      "Enter the end of the range: 200\n",
      "Armstrong numbers between 1 and 200:\n",
      "1 \t\n",
      "2 \t\n",
      "3 \t\n",
      "4 \t\n",
      "5 \t\n",
      "6 \t\n",
      "7 \t\n",
      "8 \t\n",
      "9 \t\n",
      "153 \t\n"
     ]
    }
   ],
   "source": [
    "#Q2. Wap to print all the Armstrong numbers between a given range.\n",
    "\n",
    "start = int(input(\"Enter the start of the range: \"))\n",
    "end = int(input(\"Enter the end of the range: \"))\n",
    "\n",
    "\n",
    "\n",
    "print(f\"Armstrong numbers between {start} and {end}:\")\n",
    "\n",
    "for number in range(start, end + 1):\n",
    "    num_str = str(number)\n",
    "    num_digits = len(num_str)\n",
    "    sum_of_powers = 0\n",
    "\n",
    "    for digit in num_str:\n",
    "        sum_of_powers += int(digit) ** num_digits\n",
    "\n",
    "    if sum_of_powers == number:\n",
    "            print(number,\"\\t\")\n"
   ]
  },
  {
   "cell_type": "markdown",
   "id": "766e35ee",
   "metadata": {},
   "source": []
  },
  {
   "cell_type": "code",
   "execution_count": 8,
   "id": "ce6cb09f",
   "metadata": {},
   "outputs": [
    {
     "name": "stdout",
     "output_type": "stream",
     "text": [
      "Enter start number: 2\n",
      "Enter end number: 4\n",
      "2 \t  3 \t  4 \t  \n",
      "4 \t  6 \t  8 \t  \n",
      "6 \t  9 \t  12 \t  \n",
      "8 \t  12 \t  16 \t  \n",
      "10 \t  15 \t  20 \t  \n",
      "12 \t  18 \t  24 \t  \n",
      "14 \t  21 \t  28 \t  \n",
      "16 \t  24 \t  32 \t  \n",
      "18 \t  27 \t  36 \t  \n",
      "20 \t  30 \t  40 \t  \n"
     ]
    }
   ],
   "source": [
    "#Q3. Wap to print multiplication tables from a given range.\n",
    "\n",
    "start = int(input(\"Enter start number: \"))\n",
    "end = int(input(\"Enter end number: \"))\n",
    "for j in range(1, 10+1):\n",
    "    for i in range(start, end+1):\n",
    "        print(i*j,\"\\t\", end=\"  \")\n",
    "    print()\n"
   ]
  },
  {
   "cell_type": "code",
   "execution_count": 10,
   "id": "fab16fd7",
   "metadata": {},
   "outputs": [
    {
     "name": "stdout",
     "output_type": "stream",
     "text": [
      "enter the number: 5\n",
      " \n",
      "1  \n",
      "2 2  \n",
      "3 3 3  \n",
      "4 4 4 4  \n",
      "5 5 5 5 5  \n"
     ]
    }
   ],
   "source": [
    "#Create Following Patterns using functions in a single program:-\n",
    "\n",
    "# PATTERN1\n",
    "\n",
    "def pattern(n):\n",
    "    for i in range(n+1):\n",
    "        for j in range(i):\n",
    "            print(i , end=\" \")\n",
    "        print(\" \")    \n",
    "    \n",
    "n= int(input(\"enter the number: \"))\n",
    "pattern(n)"
   ]
  },
  {
   "cell_type": "code",
   "execution_count": 11,
   "id": "e93748dd",
   "metadata": {},
   "outputs": [
    {
     "name": "stdout",
     "output_type": "stream",
     "text": [
      "Enter the value of n: 5\n",
      "1  \n",
      "1 2  \n",
      "1 2 3  \n",
      "1 2 3 4  \n",
      "1 2 3 4 5  \n"
     ]
    }
   ],
   "source": [
    "#PATTERN2\n",
    "\n",
    "def pattern(n):\n",
    "    for i in range(1,n+1):\n",
    "        for j in range(1,i+1):\n",
    "            print(j, end = \" \")\n",
    "        print(\" \")\n",
    "\n",
    "n = int(input(\"Enter the number: \")) \n",
    "pattern(n)"
   ]
  },
  {
   "cell_type": "code",
   "execution_count": 12,
   "id": "561cd80f",
   "metadata": {},
   "outputs": [
    {
     "name": "stdout",
     "output_type": "stream",
     "text": [
      "Enter the value of n: 5\n",
      "1   \n",
      "2  3   \n",
      "4  5  6   \n",
      "7  8  9  10   \n",
      "11  12  13  14  15   \n"
     ]
    }
   ],
   "source": [
    "#PATTERN3\n",
    "\n",
    "def pattern(n):\n",
    "    number = 1\n",
    "    for i in range(1, n+1):\n",
    "        for j in range(i):\n",
    "            print(number,\" \", end=\"\")\n",
    "            number +=1\n",
    "        print(\" \")\n",
    "\n",
    "n = int(input(\"Enter the number: \")) \n",
    "pattern(n)"
   ]
  },
  {
   "cell_type": "code",
   "execution_count": 14,
   "id": "aca05e57",
   "metadata": {},
   "outputs": [
    {
     "name": "stdout",
     "output_type": "stream",
     "text": [
      "Enter the number: 5\n",
      "1                    1  \n",
      "2 1                1 2  \n",
      "3 2 1            1 2 3  \n",
      "4 3 2 1        1 2 3 4  \n",
      "5 4 3 2 1    1 2 3 4 5  \n"
     ]
    }
   ],
   "source": [
    "#PATTERN4\n",
    "\n",
    "def pattern(n):\n",
    "    for i in range(1, n+1):\n",
    "        number = i\n",
    "        for j  in range(i):\n",
    "            print(number, end=\" \")\n",
    "            number -= 1\n",
    "\n",
    "        for j in range(1, 4*(n-i+1)):\n",
    "            print(\" \", end=\"\")\n",
    "\n",
    "        for j in range(1, i+1):\n",
    "            print(j, end=\" \")\n",
    "        print(\" \")\n",
    "\n",
    "n = int(input(\"Enter the number: \")) \n",
    "pattern(n)"
   ]
  },
  {
   "cell_type": "code",
   "execution_count": 15,
   "id": "aba32010",
   "metadata": {},
   "outputs": [
    {
     "name": "stdout",
     "output_type": "stream",
     "text": [
      "Enter the number: 5\n",
      "5 4 3 2 1   1 2 3 4 5 \n",
      "4 3 2 1       1 2 3 4 \n",
      "3 2 1           1 2 3 \n",
      "2 1               1 2 \n",
      "1                   1 \n"
     ]
    }
   ],
   "source": [
    "#PATTERN5\n",
    "\n",
    "def pattern(n):\n",
    "    space = 1\n",
    "\n",
    "    for i in range(1, n + 1):\n",
    "        for j in range(n-i+1, 0, -1):\n",
    "            print(j, end=\" \")\n",
    "    \n",
    "        for j in range(space):\n",
    "            print(\" \", end=\" \")\n",
    "    \n",
    "        space += 2\n",
    "    \n",
    "        for j in range(1, n + 2 - i):\n",
    "            print(j, end=\" \")\n",
    "    \n",
    "        print()\n",
    "n = int(input(\"Enter the number: \")) \n",
    "pattern(n)"
   ]
  },
  {
   "cell_type": "code",
   "execution_count": 16,
   "id": "7d69e8b8",
   "metadata": {},
   "outputs": [
    {
     "name": "stdout",
     "output_type": "stream",
     "text": [
      "Enter the number: 5\n",
      "          1  \n",
      "        1 2 1  \n",
      "      1 2 3 2 1  \n",
      "    1 2 3 4 3 2 1  \n",
      "  1 2 3 4 5 4 3 2 1  \n",
      "    1 2 3 4 3 2 1  \n",
      "      1 2 3 2 1  \n",
      "        1 2 1  \n",
      "          1  \n"
     ]
    }
   ],
   "source": [
    "#PATTERN6\n",
    "\n",
    "def pattern(n):\n",
    "    for i in range(1, n+1):\n",
    "        for j in range((n-i)+1):\n",
    "            print(\" \", end=\" \")\n",
    "\n",
    "        for j in range(1,i+1):\n",
    "            print(j, end=\" \")\n",
    "\n",
    "        for j in range(i-1,0,-1):\n",
    "            print(j,end=\" \")\n",
    "        \n",
    "        print(\" \")\n",
    "\n",
    "\n",
    "    for i in range(2, n+1):\n",
    "        for j in range(i):\n",
    "            print(\" \", end=\" \")\n",
    "\n",
    "        for j in range(1, (n-i)+2):\n",
    "             print(j, end=\" \")\n",
    "\n",
    "        for j in range(n-i, 0, -1):\n",
    "            print(j,end=\" \")\n",
    "        print(\" \")\n",
    "\n",
    "n = int(input(\"Enter the number: \"))\n",
    "pattern(n)"
   ]
  },
  {
   "cell_type": "code",
   "execution_count": 17,
   "id": "efb562e0",
   "metadata": {},
   "outputs": [
    {
     "name": "stdout",
     "output_type": "stream",
     "text": [
      "Enter the number: 5\n",
      "          5 \n",
      "        5 4 5 \n",
      "      5 4 3 4 5 \n",
      "    5 4 3 2 3 4 5 \n",
      "  5 4 3 2 1 2 3 4 5 \n",
      "    5 4 3 2 3 4 5  \n",
      "      5 4 3 4 5  \n",
      "        5 4 5  \n",
      "          5  \n",
      "             \n"
     ]
    }
   ],
   "source": [
    "#PATTERN7\n",
    "\n",
    "def pattern(n):\n",
    "    for i in range(1, n+1):\n",
    "        for j in range((n-i)+1):\n",
    "            print(\" \", end=\" \")\n",
    "\n",
    "        for j in range(n, n-i, -1):\n",
    "            print(j, end=\" \")\n",
    "\n",
    "    \n",
    "        for j in range(n-i+2,n+1):\n",
    "            print(j,end=\" \")\n",
    "        print()\n",
    "\n",
    "\n",
    "    for i in range(1, n+1):\n",
    "        for j in range(i+1):\n",
    "            print(\" \", end=\" \")\n",
    "\n",
    "        for j in range(n, i, -1):\n",
    "            print(j,end=\" \")\n",
    "\n",
    "        for j in range(i+2, n+1):\n",
    "            print(j,end=\" \")\n",
    "        print(\" \")\n",
    "\n",
    "n = int(input(\"Enter the number: \"))\n",
    "pattern(n)"
   ]
  },
  {
   "cell_type": "code",
   "execution_count": null,
   "id": "110393f0",
   "metadata": {},
   "outputs": [],
   "source": [
    "#PATTERN8\n",
    "\n"
   ]
  },
  {
   "cell_type": "code",
   "execution_count": 18,
   "id": "dbc0442b",
   "metadata": {},
   "outputs": [
    {
     "name": "stdout",
     "output_type": "stream",
     "text": [
      "1 2 3 4 5   \n",
      "2 3 4 5       \n",
      "3 4 5           \n",
      "4 5               2 \n",
      "5                   1 2 3 \n"
     ]
    }
   ],
   "source": [
    "#PATTERN9\n",
    "\n",
    "n=5\n",
    "space = 1\n",
    "for i in range(1, n+1):\n",
    "    for j in range(i, n+1):\n",
    "        print(j,end=\" \")\n",
    "\n",
    "    for j in range(space):\n",
    "        print(\" \",end=\" \")\n",
    "    space+=2\n",
    "\n",
    "    for j in range(n-i+1, i-1):\n",
    "        print(j,end=\" \")\n",
    "    print()"
   ]
  },
  {
   "cell_type": "code",
   "execution_count": null,
   "id": "2959d97e",
   "metadata": {},
   "outputs": [],
   "source": []
  }
 ],
 "metadata": {
  "kernelspec": {
   "display_name": "Python 3 (ipykernel)",
   "language": "python",
   "name": "python3"
  },
  "language_info": {
   "codemirror_mode": {
    "name": "ipython",
    "version": 3
   },
   "file_extension": ".py",
   "mimetype": "text/x-python",
   "name": "python",
   "nbconvert_exporter": "python",
   "pygments_lexer": "ipython3",
   "version": "3.10.9"
  }
 },
 "nbformat": 4,
 "nbformat_minor": 5
}
