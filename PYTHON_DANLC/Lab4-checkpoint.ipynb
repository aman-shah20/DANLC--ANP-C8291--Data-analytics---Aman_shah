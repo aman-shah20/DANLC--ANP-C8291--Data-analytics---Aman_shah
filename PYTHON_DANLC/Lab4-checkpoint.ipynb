{
 "cells": [
  {
   "cell_type": "code",
   "execution_count": 9,
   "id": "b8e6ae34-ae55-431e-a6ce-f65d41b63a98",
   "metadata": {},
   "outputs": [
    {
     "name": "stdout",
     "output_type": "stream",
     "text": [
      "1 8 27 64 125 216 343 512 729 1000 "
     ]
    }
   ],
   "source": [
    "#Q1 :  wap to print the following pattern(min 10 elements)\n",
    "#A      1 8 27 64 125 --------\n",
    "\n",
    "for i in range(1,11):\n",
    "   print(i**3, end=\" \") "
   ]
  },
  {
   "cell_type": "code",
   "execution_count": 15,
   "id": "d0d56a8d-431c-4b5d-b9b8-bf6ce37005b6",
   "metadata": {},
   "outputs": [
    {
     "name": "stdout",
     "output_type": "stream",
     "text": [
      "55\n"
     ]
    }
   ],
   "source": [
    "#Q2 : wap to find the sum of first 10 natural numbers.\n",
    "\n",
    "sum=0\n",
    "for i in range(1,11):\n",
    "    sum =sum+i\n",
    "print(sum)\n",
    "    "
   ]
  },
  {
   "cell_type": "code",
   "execution_count": 21,
   "id": "91df4bd8-9461-4979-9bae-0233d0f87f52",
   "metadata": {},
   "outputs": [
    {
     "name": "stdin",
     "output_type": "stream",
     "text": [
      "enter number :  1\n",
      "enter number :  2\n",
      "enter number :  3\n",
      "enter number :  4\n",
      "enter number :  5\n",
      "enter number :  6\n",
      "enter number :  7\n",
      "enter number :  8\n",
      "enter number :  9\n",
      "enter number :  10\n"
     ]
    },
    {
     "name": "stdout",
     "output_type": "stream",
     "text": [
      "sum is 55\n",
      "average is 5.5\n"
     ]
    }
   ],
   "source": [
    "#Q3. Wap to input  10 numbers from user and find their sum and average.\n",
    "a=0\n",
    "for i in range(1,11):\n",
    "    num = int(input(\"enter number : \"))\n",
    "    a+=i\n",
    "print(\"sum is\",a)\n",
    "avg = a/10\n",
    "print(\"average is\",avg)\n",
    "\n"
   ]
  },
  {
   "cell_type": "code",
   "execution_count": 28,
   "id": "dd7f1f30-4ed1-4d70-b5c6-a074dd752715",
   "metadata": {},
   "outputs": [
    {
     "name": "stdin",
     "output_type": "stream",
     "text": [
      "enter a number:  5\n"
     ]
    },
    {
     "name": "stdout",
     "output_type": "stream",
     "text": [
      "120\n"
     ]
    }
   ],
   "source": [
    "# Q4. Wap to print the factorial of a number.\n",
    "# N=6  fact= 6*5*4*3*2*1\n",
    "\n",
    "num = int(input(\"enter a number: \"))\n",
    "fact = 1\n",
    "for i in range(1,num+1):\n",
    "    fact=fact*i\n",
    "print(fact)\n",
    "               "
   ]
  },
  {
   "cell_type": "code",
   "execution_count": 31,
   "id": "4de94dca-8802-4b81-8be6-d3d8e55697cd",
   "metadata": {},
   "outputs": [
    {
     "name": "stdout",
     "output_type": "stream",
     "text": [
      "204\n"
     ]
    }
   ],
   "source": [
    "#Q5. Wap to print the sum of the series\n",
    "#1  4 9 16 25 36 49 64\n",
    "sum=0\n",
    "for i in range(1,9):\n",
    "   sum = sum+i**2 \n",
    "print(sum)\n",
    "\n"
   ]
  },
  {
   "cell_type": "code",
   "execution_count": 1,
   "id": "18817976-6ec4-4031-b8a1-a58304396aa9",
   "metadata": {},
   "outputs": [
    {
     "name": "stdin",
     "output_type": "stream",
     "text": [
      "Enter a number:  2\n"
     ]
    },
    {
     "name": "stdout",
     "output_type": "stream",
     "text": [
      "Binary of the entered number is 10\n"
     ]
    }
   ],
   "source": [
    "# Q6. Wap to find the binary number of the given integer.\n",
    "# 1.      Input a number\n",
    "# 2.      Find the modulus of this number by 2 and save it into a array\n",
    "# 3.      After the loop is finished, print the array in reverse.\n",
    "\n",
    "decNum = int(input(\"Enter a number: \"))\n",
    "binNum = \"\"\n",
    "while decNum > 0:\n",
    "    rem = decNum % 2\n",
    "    binNum = str(rem) + binNum\n",
    "    decNum = decNum // 2\n",
    "\n",
    "print(f\"Binary of the entered number is {binNum}\")\n",
    " "
   ]
  },
  {
   "cell_type": "code",
   "execution_count": 41,
   "id": "daf01635-0664-41be-8249-b92cfbacf115",
   "metadata": {},
   "outputs": [
    {
     "name": "stdout",
     "output_type": "stream",
     "text": [
      "a b c d e f g h i j k l m n o p q r s t u v w x y z "
     ]
    }
   ],
   "source": [
    "#Q7. Wap to print all the lower case alphabets.\n",
    "\n",
    "for i in range(ord('a'),ord('z')+1):\n",
    "    print(chr(i),end=\" \")"
   ]
  },
  {
   "cell_type": "code",
   "execution_count": 51,
   "id": "32668271-a29a-4e56-92ec-95f19e469e1a",
   "metadata": {},
   "outputs": [
    {
     "name": "stdin",
     "output_type": "stream",
     "text": [
      "enter the numbers:  1\n",
      "enter the numbers:  2\n",
      "enter the numbers:  3\n",
      "enter the numbers:  4\n",
      "enter the numbers:  5\n",
      "enter the numbers:  6\n",
      "enter the numbers:  7\n",
      "enter the numbers:  8\n",
      "enter the numbers:  9\n",
      "enter the numbers:  3\n"
     ]
    },
    {
     "name": "stdout",
     "output_type": "stream",
     "text": [
      "minimum is  1\n",
      "maximum is  9\n"
     ]
    }
   ],
   "source": [
    "#Q8. Wap to input 10 numbers from user and find the minimum and maximum number.\n",
    "numbers =[]\n",
    "for i in range(10):\n",
    "    num = int(input(\"enter the numbers: \"))\n",
    "    numbers.append(num)\n",
    "mini_num = min(numbers)\n",
    "max_num = max(numbers)\n",
    "print(\"minimum is \",mini_num)\n",
    "print(\"maximum is \",max_num)"
   ]
  },
  {
   "cell_type": "code",
   "execution_count": 53,
   "id": "1eacd884-a164-4d6b-ad31-7c3647e72e89",
   "metadata": {},
   "outputs": [
    {
     "name": "stdin",
     "output_type": "stream",
     "text": [
      "enter current years :  2024\n"
     ]
    },
    {
     "name": "stdout",
     "output_type": "stream",
     "text": [
      "2000\n",
      "2004\n",
      "2008\n",
      "2012\n",
      "2016\n",
      "2020\n",
      "2024\n"
     ]
    }
   ],
   "source": [
    "#Q9. Wap to print all the leap years from 1 to n.\n",
    "\n",
    "yrs = int(input(\"enter current years : \"))\n",
    "for i in range(2000,yrs+1):\n",
    "    if i%4==0:\n",
    "        print(i)"
   ]
  },
  {
   "cell_type": "code",
   "execution_count": 55,
   "id": "3525c65b-7095-4668-8f64-7cac5509d359",
   "metadata": {},
   "outputs": [
    {
     "name": "stdin",
     "output_type": "stream",
     "text": [
      "enter the age:  1\n",
      "enter the age:  22\n",
      "enter the age:  23\n",
      "enter the age:  3\n",
      "enter the age:  44\n",
      "enter the age:  43\n",
      "enter the age:  4\n",
      "enter the age:  5\n",
      "enter the age:  71\n",
      "enter the age:  17\n",
      "enter the age:  20\n",
      "enter the age:  34\n",
      "enter the age:  9\n",
      "enter the age:  8\n",
      "enter the age:  56\n"
     ]
    },
    {
     "name": "stdout",
     "output_type": "stream",
     "text": [
      "babbies_count:  1\n",
      "school_age_count:  6\n",
      "adults_count:  8\n"
     ]
    }
   ],
   "source": [
    "#Q10. Wap to read age of 15 people and find the number of adults, babies and school age students.\n",
    "\n",
    "babbies_count = 0\n",
    "school_age_count = 0\n",
    "adults_count = 0\n",
    "\n",
    "for i in range(15):\n",
    "    age = int(input(\"enter the age: \"))\n",
    "\n",
    "    if age <=5:\n",
    "        babbies_count+=1\n",
    "    elif 3<= age <=17:\n",
    "        school_age_count+=1\n",
    "    else:\n",
    "        adults_count+=1\n",
    "print(\"babbies_count: \",babbies_count)\n",
    "print(\"school_age_count: \",school_age_count)\n",
    "print(\"adults_count: \",adults_count)\n",
    "        \n"
   ]
  },
  {
   "cell_type": "code",
   "execution_count": null,
   "id": "709e8332-72d6-4df9-9542-a2917d16c947",
   "metadata": {},
   "outputs": [],
   "source": []
  }
 ],
 "metadata": {
  "kernelspec": {
   "display_name": "Python 3 (ipykernel)",
   "language": "python",
   "name": "python3"
  },
  "language_info": {
   "codemirror_mode": {
    "name": "ipython",
    "version": 3
   },
   "file_extension": ".py",
   "mimetype": "text/x-python",
   "name": "python",
   "nbconvert_exporter": "python",
   "pygments_lexer": "ipython3",
   "version": "3.10.6"
  }
 },
 "nbformat": 4,
 "nbformat_minor": 5
}
