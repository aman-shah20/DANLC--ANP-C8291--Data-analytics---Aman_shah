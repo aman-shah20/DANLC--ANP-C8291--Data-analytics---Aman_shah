{
 "cells": [
  {
   "cell_type": "code",
   "execution_count": 29,
   "id": "9afa9346-eb6e-45e1-aae8-4308d3aa247f",
   "metadata": {},
   "outputs": [
    {
     "name": "stdout",
     "output_type": "stream",
     "text": [
      "{70, 40, 10, 50, 20, 60, 30}\n"
     ]
    }
   ],
   "source": [
    "# 1. Write a Python program to Get Only unique items from two sets.\n",
    "# Input:\n",
    "# set1 = {10, 20, 30, 40, 50}\n",
    "# set2 = {30, 40, 50, 60, 70}\n",
    "# Output:\n",
    "# {70, 40, 10, 50, 20, 60, 30}\n",
    "\n",
    "set1 = {10, 20, 30, 40, 50}\n",
    "set2 = {30, 40, 50, 60, 70}\n",
    "new_set = set1.union(set2)\n",
    "print(new_set)\n"
   ]
  },
  {
   "cell_type": "code",
   "execution_count": 24,
   "id": "60310740-fab4-4739-8481-00641f5e23a3",
   "metadata": {},
   "outputs": [
    {
     "name": "stdout",
     "output_type": "stream",
     "text": [
      "{20, 70, 10, 60}\n"
     ]
    }
   ],
   "source": [
    "# 2. Write a Python program to Return a set of elements present in Set A or B, but\n",
    "# not both.\n",
    "# Input:\n",
    "# set1 = {10, 20, 30, 40, 50}\n",
    "# set2 = {30, 40, 50, 60, 70}\n",
    "# Output:\n",
    "# {20, 70, 10, 60}\n",
    "\n",
    "set1 = {10, 20, 30, 40, 50}\n",
    "set2 = {30, 40, 50, 60, 70}\n",
    "\n",
    "result = set1.symmetric_difference(set2)\n",
    "print(result)"
   ]
  },
  {
   "cell_type": "code",
   "execution_count": 19,
   "id": "06c15d28-998b-4259-8c31-230c24bf69a8",
   "metadata": {},
   "outputs": [
    {
     "name": "stdout",
     "output_type": "stream",
     "text": [
      "{10}\n"
     ]
    }
   ],
   "source": [
    "# 3. Write a Python program to Check if two sets have any elements in common. If\n",
    "# yes, display the common elements.\n",
    "# Input:\n",
    "# set1 = {10, 20, 30, 40, 50}\n",
    "# set2 = {60, 70, 80, 90, 10}\n",
    "# Output:\n",
    "# {10\n",
    "\n",
    "set1 = {10, 20, 30, 40, 50}\n",
    "set2 = {60, 70, 80, 90, 10}\n",
    "result = intersection(set1, set2)\n",
    "print(result)\n"
   ]
  },
  {
   "cell_type": "code",
   "execution_count": 27,
   "id": "17373faa-1475-4b71-96a6-478df9e6fcb2",
   "metadata": {},
   "outputs": [
    {
     "name": "stdout",
     "output_type": "stream",
     "text": [
      "{40, 50, 30}\n"
     ]
    }
   ],
   "source": [
    "# 4. Write a Python program to Remove items from set1 that are not common to\n",
    "# both set1 and set2.\n",
    "# Input:\n",
    "# set1 = {10, 20, 30, 40, 50}\n",
    "# set2 = {30, 40, 50, 60, 70}\n",
    "# Output:\n",
    "# {40, 50, 30}\n",
    "\n",
    "set1 = {10, 20, 30, 40, 50}\n",
    "set2 = {30, 40, 50, 60, 70}\n",
    "result = set1 & set2\n",
    "print(result)"
   ]
  },
  {
   "cell_type": "code",
   "execution_count": null,
   "id": "bf8bef3c-b373-4d74-904b-eca100d7e154",
   "metadata": {},
   "outputs": [],
   "source": []
  }
 ],
 "metadata": {
  "kernelspec": {
   "display_name": "Python 3 (ipykernel)",
   "language": "python",
   "name": "python3"
  },
  "language_info": {
   "codemirror_mode": {
    "name": "ipython",
    "version": 3
   },
   "file_extension": ".py",
   "mimetype": "text/x-python",
   "name": "python",
   "nbconvert_exporter": "python",
   "pygments_lexer": "ipython3",
   "version": "3.12.4"
  }
 },
 "nbformat": 4,
 "nbformat_minor": 5
}
