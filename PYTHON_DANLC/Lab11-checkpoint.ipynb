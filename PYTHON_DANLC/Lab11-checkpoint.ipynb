{
 "cells": [
  {
   "cell_type": "code",
   "execution_count": 22,
   "id": "da106ab7-6e33-4bce-a440-948262e2807f",
   "metadata": {},
   "outputs": [
    {
     "name": "stdout",
     "output_type": "stream",
     "text": [
      "6.2\n"
     ]
    }
   ],
   "source": [
    "# 1. Write a Python program and calculate the mean of the below dictionary.\n",
    "# test_dict = {\"A\" : 6, \"B\" : 9, \"C\" : 5, \"D\" : 7, \"E\" : 4}\n",
    "# Output: 6.2\n",
    "\n",
    "test_dict = {\"A\" : 6, \"B\" : 9, \"C\" : 5, \"D\" : 7, \"E\" : 4}\n",
    "total_sum = sum(test_dict.values())\n",
    "length = len(test_dict)\n",
    "mean = total_sum/length\n",
    "\n",
    "print(mean)"
   ]
  },
  {
   "cell_type": "code",
   "execution_count": 38,
   "id": "58e7c464-eb1f-4008-93d2-62fc32f2617c",
   "metadata": {},
   "outputs": [
    {
     "name": "stdout",
     "output_type": "stream",
     "text": [
      "{1: 10, 2: 20, 3: 30, 4: 40, 5: 50, 6: 60}\n"
     ]
    }
   ],
   "source": [
    "# #2.Write a Python script to concatenate the following dictionaries to create a new one.\n",
    "# Sample Dictionary :\n",
    "# dic1={1:10, 2:20}\n",
    "# dic2={3:30, 4:40}\n",
    "# dic3={5:50,6:60}\n",
    "# Expected Result : {1: 10, 2: 20, 3: 30, 4: 40, 5: 50, 6: 60}\n",
    "\n",
    "\n",
    "dic1={1:10, 2:20}\n",
    "dic2={3:30, 4:40}\n",
    "dic3={5:50,6:60}\n",
    "output = {}\n",
    "output.update(dic1)\n",
    "output.update(dic2)\n",
    "output.update(dic3)\n",
    "\n",
    "print(output)\n"
   ]
  },
  {
   "cell_type": "code",
   "execution_count": 2,
   "id": "056f1847-c4b8-4716-bae3-7b41bc4b31a1",
   "metadata": {},
   "outputs": [
    {
     "name": "stdout",
     "output_type": "stream",
     "text": [
      "key    value\n",
      "1      10\n",
      "2      20\n",
      "3      30\n",
      "4      40\n",
      "5      50\n",
      "6      60\n"
     ]
    }
   ],
   "source": [
    " #3.Write a Python program to get the key, value and item in a dictionary.\n",
    "# input:dict_num = {1: 10, 2: 20, 3: 30, 4: 40, 5: 50, 6: 60}\n",
    "\n",
    "dict_num = {1: 10, 2: 20, 3: 30, 4: 40, 5: 50, 6: 60}\n",
    "print(\"key    value\")\n",
    "for key,value in dict_num.items():\n",
    "    print(f\"{key:<5}  {value}\")"
   ]
  },
  {
   "cell_type": "code",
   "execution_count": 4,
   "id": "61db177c-08c2-40c7-851c-52c7372f2912",
   "metadata": {},
   "outputs": [
    {
     "name": "stdout",
     "output_type": "stream",
     "text": [
      "Dictionary with empty items dropped:  {1: 10, 2: 20, 4: 40, 6: 60}\n"
     ]
    }
   ],
   "source": [
    "# 4.Write a Python program to get the key, value and item in a dictionary.\n",
    "# Input: input_dict = {1: 10, 2: 20, 3:None, 4: 40, 5: None, 6: 60}\n",
    "\n",
    "input_dict = {1: 10, 2: 20, 3:None, 4: 40, 5: None, 6: 60}\n",
    "\n",
    "output ={}\n",
    "for key,value in input_dict.items():\n",
    "    if value is not None:\n",
    "        output[key] = value\n",
    "\n",
    "print(\"Dictionary with empty items dropped: \",output)"
   ]
  }
 ],
 "metadata": {
  "kernelspec": {
   "display_name": "Python 3 (ipykernel)",
   "language": "python",
   "name": "python3"
  },
  "language_info": {
   "codemirror_mode": {
    "name": "ipython",
    "version": 3
   },
   "file_extension": ".py",
   "mimetype": "text/x-python",
   "name": "python",
   "nbconvert_exporter": "python",
   "pygments_lexer": "ipython3",
   "version": "3.12.4"
  }
 },
 "nbformat": 4,
 "nbformat_minor": 5
}
