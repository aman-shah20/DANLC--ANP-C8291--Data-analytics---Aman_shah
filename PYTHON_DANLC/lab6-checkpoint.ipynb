{
 "cells": [
  {
   "cell_type": "code",
   "execution_count": 20,
   "id": "93bd27df",
   "metadata": {
    "scrolled": true
   },
   "outputs": [
    {
     "name": "stdout",
     "output_type": "stream",
     "text": [
      "enter the string: hii i want to say you something can i tell\n",
      "enter the word or character: want\n",
      "1\n"
     ]
    }
   ],
   "source": [
    "#wap to count the occurwnce of word in a string\n",
    "\n",
    "str1 = input(\"enter the string: \")\n",
    "str2 = input(\"enter the word or character: \")\n",
    "str3 = str1.split()\n",
    "count=0\n",
    "for i in str3:\n",
    "    if i==str2:\n",
    "        count+=1\n",
    "print(count)"
   ]
  },
  {
   "cell_type": "code",
   "execution_count": 21,
   "id": "6083bf9f",
   "metadata": {
    "scrolled": true
   },
   "outputs": [
    {
     "name": "stdout",
     "output_type": "stream",
     "text": [
      "\n",
      "Best \n",
      "Deeptech \n",
      "Python \n",
      "Training\n",
      "\n",
      "Best Deeptech Python Training\n"
     ]
    }
   ],
   "source": [
    "#write a python program toremove a new line  in a python\n",
    "\n",
    "str1 = \"\\nBest \\nDeeptech \\nPython \\nTraining\\n\"\n",
    "print(str1)\n",
    "str2 = str1.replace(\"\\n\",\"\")\n",
    "print(str2)"
   ]
  },
  {
   "cell_type": "code",
   "execution_count": 35,
   "id": "4e6ab401",
   "metadata": {},
   "outputs": [
    {
     "name": "stdout",
     "output_type": "stream",
     "text": [
      "hcetpeeD nohtyp gniniart "
     ]
    }
   ],
   "source": [
    "#write a python program to reverse words in a string\n",
    "\n",
    "str1 = \"Deeptech python training\"\n",
    "list = str1.split()\n",
    "\n",
    "for word in list:\n",
    "    print(word[::-1], end=\" \")"
   ]
  },
  {
   "cell_type": "code",
   "execution_count": 33,
   "id": "8b2228f4",
   "metadata": {},
   "outputs": [
    {
     "name": "stdout",
     "output_type": "stream",
     "text": [
      "number of vowels: 8\n",
      "['e', 'o', 'e', 'o', 'o', 'a', 'i', 'i']\n"
     ]
    }
   ],
   "source": [
    "#wap to count and display the vowels of a given text\n",
    "\n",
    "string = \"welcome to python training\"\n",
    "string = string.lower()\n",
    "count =0 \n",
    "countvowel =[]\n",
    "for i in string:\n",
    "    if i in \"aeiou\":\n",
    "        count +=1\n",
    "        countvowel.append(i)\n",
    "\n",
    "print(f\"number of vowels: {count}\")\n",
    "print(countvowel)"
   ]
  }
 ],
 "metadata": {
  "kernelspec": {
   "display_name": "Python 3 (ipykernel)",
   "language": "python",
   "name": "python3"
  },
  "language_info": {
   "codemirror_mode": {
    "name": "ipython",
    "version": 3
   },
   "file_extension": ".py",
   "mimetype": "text/x-python",
   "name": "python",
   "nbconvert_exporter": "python",
   "pygments_lexer": "ipython3",
   "version": "3.10.9"
  }
 },
 "nbformat": 4,
 "nbformat_minor": 5
}
