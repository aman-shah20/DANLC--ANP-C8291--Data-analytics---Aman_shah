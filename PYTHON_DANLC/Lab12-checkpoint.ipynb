{
 "cells": [
  {
   "cell_type": "code",
   "execution_count": 2,
   "id": "4af11d45-e0d2-4915-b14d-3367e651663d",
   "metadata": {},
   "outputs": [
    {
     "name": "stdout",
     "output_type": "stream",
     "text": [
      "number of times 4 appeared is:  3\n"
     ]
    }
   ],
   "source": [
    "# 1. Write a Python program to find the number of times 4 appears in the tuple.\n",
    "# Input:\n",
    "# tuplex = (2, 4, 5, 6, 2, 3, 4, 4, 7 )\n",
    "# Output: 3\n",
    "\n",
    "\n",
    "tuplex = (2, 4, 5, 6, 2, 3, 4, 4, 7 )\n",
    "count=0\n",
    "for i  in tuplex:\n",
    "    if i==4:\n",
    "        count+=1\n",
    "print(\"number of times 4 appeared is: \",count)"
   ]
  },
  {
   "cell_type": "code",
   "execution_count": 4,
   "id": "72239d2c-3d2c-4123-8dcf-35d8f63c067d",
   "metadata": {},
   "outputs": [
    {
     "name": "stdout",
     "output_type": "stream",
     "text": [
      "(5, 10, 7, 4, 15, 3)\n"
     ]
    }
   ],
   "source": [
    "# 2.Write a Python program to convert a list to a tuple.\n",
    "# Input: listx = [5, 10, 7, 4, 15, 3]\n",
    "# Output: (5, 10, 7, 4, 15, 3)\n",
    "\n",
    "listx = [5, 10, 7, 4, 15, 3]\n",
    "new = tuple(listx)\n",
    "print(new)"
   ]
  },
  {
   "cell_type": "code",
   "execution_count": 2,
   "id": "ffdb8532-768a-4975-90fb-c0188cfc6901",
   "metadata": {},
   "outputs": [
    {
     "name": "stdout",
     "output_type": "stream",
     "text": [
      " sum 21\n"
     ]
    }
   ],
   "source": [
    " #3. Write a Python program to calculate the sum of the numbers in a given tuple.\n",
    "# Input: tuples_list = [(1, 2), (3, 4), (5, 6)]\n",
    "total_sum=0\n",
    "tuples_list = [(1, 2), (3, 4), (5, 6)]\n",
    "for i in tuples_list:\n",
    "    for j in i:\n",
    "        total_sum+=j\n",
    "print(f\" sum {total_sum}\")\n"
   ]
  },
  {
   "cell_type": "code",
   "execution_count": 7,
   "id": "313f9859-058b-4403-9a05-b9de3eb9c97d",
   "metadata": {},
   "outputs": [
    {
     "name": "stdout",
     "output_type": "stream",
     "text": [
      "=====================================================================\n",
      "Name: John Doe\n",
      "employee id: 101\n",
      "Department: Human Resources\n",
      "Salary: 60000\n",
      "\n",
      "Name: Alice Smith\n",
      "employee id: 102\n",
      "Department: Marketing\n",
      "Salary: 55000\n",
      "\n",
      "Name: Bob Johnson\n",
      "employee id: 103\n",
      "Department: Engineering\n",
      "Salary: 75000\n",
      "\n"
     ]
    }
   ],
   "source": [
    "# 4.Write a python program and iterate the given tuples\n",
    "# Input:\n",
    "# employee1 = (\"John Doe\", 101, \"Human Resources\", 60000)\n",
    "# employee2 = (\"Alice Smith\", 102, \"Marketing\", 55000)\n",
    "# employee3 = (\"Bob Johnson\", 103, \"Engineering\", 75000)\n",
    "\n",
    "employee1 = (\"John Doe\", 101, \"Human Resources\", 60000)\n",
    "employee2 = (\"Alice Smith\", 102, \"Marketing\", 55000)\n",
    "employee3 = (\"Bob Johnson\", 103, \"Engineering\", 75000)\n",
    "\n",
    "listx = [employee1,employee2,employee3]\n",
    "print(\"=====================================================================\")\n",
    "for i in listx:\n",
    "    name = i[0]\n",
    "    employee_id = i[1]\n",
    "    department = i[2]\n",
    "    salary = i[3]\n",
    "    print(f\"Name: {name}\")\n",
    "    print(f\"employee id: {employee_id}\")\n",
    "    print(f\"Department: {department}\")\n",
    "    print(f\"Salary: {salary}\")\n",
    "    print()\n",
    "\n",
    "\n"
   ]
  },
  {
   "cell_type": "code",
   "execution_count": null,
   "id": "6d6a7973-60e8-4c23-8ac1-88c119980fd6",
   "metadata": {},
   "outputs": [],
   "source": []
  }
 ],
 "metadata": {
  "kernelspec": {
   "display_name": "Python 3 (ipykernel)",
   "language": "python",
   "name": "python3"
  },
  "language_info": {
   "codemirror_mode": {
    "name": "ipython",
    "version": 3
   },
   "file_extension": ".py",
   "mimetype": "text/x-python",
   "name": "python",
   "nbconvert_exporter": "python",
   "pygments_lexer": "ipython3",
   "version": "3.12.4"
  }
 },
 "nbformat": 4,
 "nbformat_minor": 5
}
