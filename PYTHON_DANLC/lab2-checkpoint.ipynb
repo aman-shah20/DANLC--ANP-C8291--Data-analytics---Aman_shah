{
 "cells": [
  {
   "cell_type": "code",
   "execution_count": 9,
   "id": "f5c45516-6813-4863-9844-f6e5390895ec",
   "metadata": {},
   "outputs": [
    {
     "name": "stdin",
     "output_type": "stream",
     "text": [
      "Enter a number:  2\n"
     ]
    },
    {
     "name": "stdout",
     "output_type": "stream",
     "text": [
      "positive\n"
     ]
    }
   ],
   "source": [
    "#Wap to check whether a number is negative or positive.\n",
    "\n",
    "num = int(input(\"Enter a number: \"))\n",
    "result = \"positive\" if num>=0 else \"negative\"\n",
    "print(result)"
   ]
  },
  {
   "cell_type": "code",
   "execution_count": 14,
   "id": "7329f1f1-2bdb-41c9-84f3-8d1f493053ce",
   "metadata": {},
   "outputs": [
    {
     "name": "stdin",
     "output_type": "stream",
     "text": [
      "Enter the Character:  a\n"
     ]
    },
    {
     "name": "stdout",
     "output_type": "stream",
     "text": [
      "lower case\n"
     ]
    }
   ],
   "source": [
    "#2.       Wap to check whether a character is  in lower case or upper case.\n",
    "          #A-Z    :     65 to 90                \n",
    "          #a-z   :       97 to 122\n",
    "ch= input(\"Enter the Character: \")\n",
    "result = \"upper case\" if 65<=ord(ch)<=90 else \"lower case\"\n",
    "print(result)\n"
   ]
  },
  {
   "cell_type": "code",
   "execution_count": 16,
   "id": "fe27e15b-f056-46ad-ac3e-c811d8c0912f",
   "metadata": {},
   "outputs": [
    {
     "name": "stdin",
     "output_type": "stream",
     "text": [
      "enter a year:  1900\n"
     ]
    },
    {
     "name": "stdout",
     "output_type": "stream",
     "text": [
      "leap year\n"
     ]
    }
   ],
   "source": [
    "#3.Wap to check whether an year is leap or not.\n",
    "\n",
    "year = int(input(\"enter a year: \"))\n",
    "result = \"leap year\" if year%4==0 and (year%100!=0 or year%400!=0) else \"not leap year\"\n",
    "print(result)"
   ]
  },
  {
   "cell_type": "code",
   "execution_count": 1,
   "id": "4fcaf195-e544-4a4e-82f4-bb849d669500",
   "metadata": {},
   "outputs": [
    {
     "name": "stdin",
     "output_type": "stream",
     "text": [
      "enter a Character 3\n"
     ]
    },
    {
     "name": "stdout",
     "output_type": "stream",
     "text": [
      "Not Alphabet\n"
     ]
    }
   ],
   "source": [
    "#4.Wap to check whether a character is alphabet or not.\n",
    "\n",
    "ch = input(\"enter a Character\")\n",
    "result = \"Alphabet\" if (65<=ord(ch)<=90) or (97<=ord(ch)<=122) else \"Not Alphabet\"\n",
    "print(result)"
   ]
  },
  {
   "cell_type": "code",
   "execution_count": 2,
   "id": "0ffe50c5-3a74-4eda-95e9-7fe56d3b9d25",
   "metadata": {},
   "outputs": [
    {
     "name": "stdin",
     "output_type": "stream",
     "text": [
      "enter a character 2\n"
     ]
    },
    {
     "name": "stdout",
     "output_type": "stream",
     "text": [
      "number\n"
     ]
    }
   ],
   "source": [
    "#5. Wap to check a character and print whether it is an alphabet, number or Special character.\n",
    "ch = input(\"enter a character\")\n",
    "result = \"Alphabet\" if (65<=ord(ch)<=90) or (90<=ord(ch)<=122) else \"number\" if(48<=ord(ch)<=57) else \"special character\"\n",
    "print(result)"
   ]
  },
  {
   "cell_type": "code",
   "execution_count": 4,
   "id": "49dfbbc6-ccd4-44ef-a64f-884e7d83daf3",
   "metadata": {},
   "outputs": [
    {
     "name": "stdin",
     "output_type": "stream",
     "text": [
      "enter the Basic Salary 50000\n"
     ]
    },
    {
     "name": "stdout",
     "output_type": "stream",
     "text": [
      "Net Salary 57500.0\n",
      "Bonus:  14375.0\n"
     ]
    }
   ],
   "source": [
    "BasicSalary = float(input(\"enter the Basic Salary\"))\n",
    "da = 0.02*BasicSalary\n",
    "ta = 0.03*BasicSalary\n",
    "hra = 0.10*BasicSalary\n",
    "pf = 0.15*BasicSalary\n",
    "totalSalary = BasicSalary+da+ta+hra+pf\n",
    "netSalary = totalSalary - pf\n",
    "print(\"Net Salary\",netSalary)\n",
    "bonus = 0.25*netSalary\n",
    "print(\"Bonus: \",bonus)"
   ]
  }
 ],
 "metadata": {
  "kernelspec": {
   "display_name": "Python 3 (ipykernel)",
   "language": "python",
   "name": "python3"
  },
  "language_info": {
   "codemirror_mode": {
    "name": "ipython",
    "version": 3
   },
   "file_extension": ".py",
   "mimetype": "text/x-python",
   "name": "python",
   "nbconvert_exporter": "python",
   "pygments_lexer": "ipython3",
   "version": "3.10.6"
  }
 },
 "nbformat": 4,
 "nbformat_minor": 5
}
