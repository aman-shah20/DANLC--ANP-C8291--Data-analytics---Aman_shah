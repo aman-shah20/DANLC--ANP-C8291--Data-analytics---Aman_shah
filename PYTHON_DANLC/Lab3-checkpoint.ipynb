{
 "cells": [
  {
   "cell_type": "code",
   "execution_count": 3,
   "id": "9d03e0a6-f4e4-4ee4-918b-42cca80caac8",
   "metadata": {},
   "outputs": [
    {
     "name": "stdin",
     "output_type": "stream",
     "text": [
      "enter a aplphabet:  q\n"
     ]
    },
    {
     "name": "stdout",
     "output_type": "stream",
     "text": [
      "Character is alphabet!\n"
     ]
    }
   ],
   "source": [
    "#1.Wap to check whether a character is alphabet or not.\n",
    "\n",
    "ch = input(\"enter a aplphabet: \")\n",
    "if (65<=ord(ch)<=90) or (97<=ord(ch)<=122):\n",
    "    print(\"Character is alphabet!\")\n",
    "else:\n",
    "    print(\"Not Alphabet\")"
   ]
  },
  {
   "cell_type": "code",
   "execution_count": 6,
   "id": "b0acee9c-7b64-458c-8cc4-2a06c3c38dc8",
   "metadata": {},
   "outputs": [
    {
     "name": "stdin",
     "output_type": "stream",
     "text": [
      "enter a number :  2\n"
     ]
    },
    {
     "name": "stdout",
     "output_type": "stream",
     "text": [
      "number is positive\n"
     ]
    }
   ],
   "source": [
    "#2.Wap to check whether a number is negative, positive or zero.\n",
    "\n",
    "num = int(input(\"enter a number : \"))\n",
    "if num>0:\n",
    "    print(\"number is positive\")\n",
    "elif(num<0):\n",
    "    print(\"number is negative\")\n",
    "else:\n",
    "   print(\"number is zero\")"
   ]
  },
  {
   "cell_type": "code",
   "execution_count": 10,
   "id": "76e8027f-ec39-44c1-99e2-6fe7e92204f6",
   "metadata": {},
   "outputs": [
    {
     "name": "stdin",
     "output_type": "stream",
     "text": [
      "enter your id Aman@gmail.com\n",
      "enter your password! Aman@123\n"
     ]
    },
    {
     "name": "stdout",
     "output_type": "stream",
     "text": [
      "login sucessfully\n"
     ]
    }
   ],
   "source": [
    "#3.Wap to check login and password.  \n",
    "\n",
    "userid = \"Aman@gmail.com\"\n",
    "userpass = \"Aman@123\"\n",
    "\n",
    "uid = input(\"enter your id\")\n",
    "\n",
    "if uid == userid:\n",
    "    password = input(\"enter your password!\")\n",
    "    if userpass == password:\n",
    "        print(\"login sucessfully\")\n",
    "    else:\n",
    "        print(\"invalid password\")\n",
    "else:\n",
    "    print(\"invalid userid\")"
   ]
  },
  {
   "cell_type": "code",
   "execution_count": 12,
   "id": "67d38f0a-9bca-461a-8bcf-db1766578053",
   "metadata": {},
   "outputs": [
    {
     "name": "stdin",
     "output_type": "stream",
     "text": [
      "enter your currency:  200\n"
     ]
    },
    {
     "name": "stdout",
     "output_type": "stream",
     "text": [
      "money is deposited\n"
     ]
    }
   ],
   "source": [
    "#4.Wap to check if the user has provided the correct currency note for deposit or not.\n",
    "#a.The note should be in between the following currencies:-\n",
    "#i.2000, 500, 200, 100, 50\n",
    "\n",
    "currency = int(input(\"enter your currency: \"))\n",
    "\n",
    "valid_currency = [2000, 500, 200, 100, 50]\n",
    "\n",
    "if currency in valid_currency:\n",
    "    print(\"money is deposited\")\n",
    "else:\n",
    "    print(\"Kindly Deposit correct Currency!\")\n",
    "    "
   ]
  },
  {
   "cell_type": "code",
   "execution_count": 14,
   "id": "e3f4cc37-76e3-4c6e-b5d2-b68872283bfe",
   "metadata": {},
   "outputs": [
    {
     "name": "stdin",
     "output_type": "stream",
     "text": [
      "enter the character:  2\n"
     ]
    },
    {
     "name": "stdout",
     "output_type": "stream",
     "text": [
      "its an Number\n"
     ]
    }
   ],
   "source": [
    "#5.Wap to check whether a character is alphabet, number or special character.\n",
    "\n",
    "ch = input(\"enter the character: \")\n",
    "\n",
    "if (65<=ord(ch)<=90) or (90<=ord(ch)<=122):\n",
    "    print(\"its an Alphabet!\")\n",
    "elif (48<=ord(ch)<=57):\n",
    "    print(\"its an Number\")\n",
    "else:\n",
    "    print(\"Special charcter\")\n"
   ]
  },
  {
   "cell_type": "code",
   "execution_count": 2,
   "id": "1feb809f-f15e-4f78-a1de-8805cb49251f",
   "metadata": {},
   "outputs": [
    {
     "name": "stdin",
     "output_type": "stream",
     "text": [
      "Enter units of electricity 3000\n"
     ]
    },
    {
     "name": "stdout",
     "output_type": "stream",
     "text": [
      "The Electricity bill for 3000.0 is 20520.0\n"
     ]
    }
   ],
   "source": [
    "# 6.Input units of electricity from user and print the bill according to the following criteria\n",
    "# a.    Less than 200 : no bill\n",
    "# b.    Next 200-300  -   1.2/perunit       100*1\n",
    "# c.     Next 300-400  -1.5/perunit           100*2\n",
    "# d.    Next 400-500  - 2.5/perunit          100*3\n",
    "# e.    Above 500 -   8/per unit\n",
    "\n",
    "unit = float(input(\"Enter units of electricity\"))\n",
    "bill = 0;\n",
    "if unit<200:\n",
    "    print(\"No bill\")\n",
    "elif unit<=300:\n",
    "    bill = (unit - 200) * 1.2\n",
    "elif unit<=400:\n",
    "    bill = (100*1.2)+((unit-300)*1.5)\n",
    "elif unit<=500:\n",
    "    bill = (100*1.2)+(100*1.5)+(unit-400)*2.5\n",
    "else:\n",
    "    bill = (100*1.2)+(100*1.5)+(100*2.5)+(unit-500)*8\n",
    "\n",
    "print(f\"The Electricity bill for {unit} is {bill}\")\n",
    "\n",
    "\n"
   ]
  },
  {
   "cell_type": "code",
   "execution_count": 3,
   "id": "74d453f2-e69b-4121-b58b-3a1e3834ecb7",
   "metadata": {},
   "outputs": [
    {
     "name": "stdin",
     "output_type": "stream",
     "text": [
      "Enter amount :  75400\n"
     ]
    },
    {
     "name": "stdout",
     "output_type": "stream",
     "text": [
      "2000 X 37 = 74000\n",
      "500 X 2 = 1000\n",
      "200 X 2 = 400\n"
     ]
    }
   ],
   "source": [
    "# 7.Input amount and print its denomination :-\n",
    "# a.2000X\n",
    "# b.500 X\n",
    "# c.200 X\n",
    "# d.100 X\n",
    "# e.50 X\n",
    "\n",
    "# input amount from user\n",
    "\n",
    "amount = int(input(\"Enter amount : \")) # 17600\n",
    "\n",
    "if amount % 100 == 0:\n",
    "    if amount >= 2000:\n",
    "        notes = amount // 2000 # 17600/2000= 8\n",
    "        print(f\"2000 X {notes} = {notes * 2000}\") # 2000 X 8 = 16000\n",
    "        amount = amount - (notes * 2000) # amount = 17600 - 16000= 1600\n",
    "\n",
    "    if amount >= 500:\n",
    "        notes = amount // 500 # 1600/500= 3\n",
    "        print(f\"500 X {notes} = {notes * 500}\") # 500 X 3 = 1500\n",
    "        amount = amount - (notes * 500) # amount = 1600 - 1500= 100\n",
    "\n",
    "    if amount >= 200:\n",
    "        notes = amount // 200\n",
    "        print(f\"200 X {notes} = {notes * 200}\")\n",
    "        amount = amount - (notes * 200)\n",
    "\n",
    "    if amount >= 100:\n",
    "        notes = amount // 100 # 100/100= 1\n",
    "        print(f\"100 X {notes} = {notes * 100}\") # 100 X 1 = 100\n",
    "        amount = amount - (notes * 100) # amount = 100 - 100= 0\n",
    "else:\n",
    "    print(\"Amount should be multiple of 100!!\")\n",
    "\n",
    "\n"
   ]
  },
  {
   "cell_type": "code",
   "execution_count": 25,
   "id": "37808e0c-be24-43d6-985a-0ea367b4751a",
   "metadata": {},
   "outputs": [
    {
     "name": "stdin",
     "output_type": "stream",
     "text": [
      "enter your bank login aman@gmail.com\n",
      "enter your password aman@123\n"
     ]
    },
    {
     "name": "stdout",
     "output_type": "stream",
     "text": [
      "scessfully loged in\n",
      "--------------------------\n",
      "choose the option\n",
      "1. Change password\n",
      "2. Check Balance\n",
      "3. Deposit Amount\n",
      "4. Withdraw Amount\n"
     ]
    }
   ],
   "source": [
    "#8 input bank login and password and check whether it is valid or not\n",
    "\n",
    "login = \"aman@gmail.com\"\n",
    "password = \"aman@123\"\n",
    "\n",
    "login_id = input(\"enter your bank login\")\n",
    "\n",
    "if login_id == login:\n",
    "    pass1 = input(\"enter your password\")\n",
    "    if pass1 == password:\n",
    "        print(\"scessfully loged in\")\n",
    "        print(\"--------------------------\")\n",
    "        print(\"choose the option\")\n",
    "        print( \"1. Change password\")\n",
    "        print( \"2. Check Balance\")\n",
    "        print( \"3. Deposit Amount\")\n",
    "        print(\"4. Withdraw Amount\")\n",
    "    else:\n",
    "        print(\"incorrect password\")\n",
    "else:\n",
    "    print(\"invalid login id\")\n",
    " \n",
    "\n",
    " \n",
    "      \n",
    "\n"
   ]
  },
  {
   "cell_type": "code",
   "execution_count": 4,
   "id": "3e23dd6f-b501-465a-b463-81a9b404fd7f",
   "metadata": {},
   "outputs": [
    {
     "name": "stdin",
     "output_type": "stream",
     "text": [
      "enter your Name:  AMAN SHAH\n",
      "enter your basic salary:  50000\n",
      "enter your your experience in number:  22\n"
     ]
    },
    {
     "name": "stdout",
     "output_type": "stream",
     "text": [
      "-------------------------------------------------------------------------\n",
      "                               PAY SLIP                                  \n",
      "-------------------------------------------------------------------------\n",
      "NAME =  AMAN SHAH\n",
      "BASIC SALARY =  50000\n",
      "EXPERIENCE =  22\n",
      "-------------------------------------------------------------------------\n",
      "DA = 2500.0\n",
      "TA =  3250.0\n",
      "CCA =  4000.0\n",
      "HRA =  5000.0\n",
      "PF =  6250.0\n",
      "BONUS =  10000.0\n",
      "TOTAL_SALARY =  81000.0\n",
      "NET_SALARY =  74750.0\n"
     ]
    }
   ],
   "source": [
    "#9 write a program to generate the following payslip for an employee:-\n",
    "\n",
    "Name = input(\"enter your Name: \")\n",
    "basicSalary = int(input(\"enter your basic salary: \"))\n",
    "experience = int(input(\"enter your your experience in number: \"))\n",
    "print(\"-------------------------------------------------------------------------\")\n",
    "print(\"                               PAY SLIP                                  \")\n",
    "print(\"-------------------------------------------------------------------------\")\n",
    "print(\"NAME = \",Name)\n",
    "print(\"BASIC SALARY = \",basicSalary)\n",
    "print(\"EXPERIENCE = \",experience)\n",
    "print(\"-------------------------------------------------------------------------\")\n",
    "\n",
    "DA= basicSalary*0.05\n",
    "TA= basicSalary*0.065\n",
    "CCA= basicSalary*0.08\n",
    "HRA= basicSalary*0.1\n",
    "PF= basicSalary*0.125\n",
    "\n",
    "if experience>25:\n",
    "    BONUS = 0.25*basicSalary\n",
    "elif experience>20:\n",
    "    BONUS = 0.20*basicSalary\n",
    "elif experience>15:\n",
    "    BONUS = 0.15*basicSalary\n",
    "elif experience<15:\n",
    "    BONUS = 0.15*basicSalary\n",
    "TOTAL_SALARY= basicSalary+DA+TA+CCA+HRA+PF+BONUS\n",
    "NET_SALARY= TOTAL_SALARY-PF\n",
    "\n",
    "print(\"DA =\",DA)\n",
    "print(\"TA = \",TA)\n",
    "print(\"CCA = \",CCA)\n",
    "print(\"HRA = \",HRA)\n",
    "print(\"PF = \",PF)\n",
    "print(\"BONUS = \",BONUS)\n",
    "print(\"TOTAL_SALARY = \",TOTAL_SALARY)\n",
    "print(\"NET_SALARY = \",NET_SALARY)\n",
    "\n",
    "      \n",
    "\n"
   ]
  },
  {
   "cell_type": "code",
   "execution_count": null,
   "id": "67ed02bd-47a6-4ace-a8ea-148a5f9131b3",
   "metadata": {},
   "outputs": [],
   "source": []
  },
  {
   "cell_type": "code",
   "execution_count": null,
   "id": "79552bf6-70c5-4d2d-9f78-a74ed504a0cd",
   "metadata": {},
   "outputs": [],
   "source": []
  },
  {
   "cell_type": "code",
   "execution_count": null,
   "id": "351d93ae-5741-4430-b782-20d48d75372f",
   "metadata": {},
   "outputs": [],
   "source": []
  }
 ],
 "metadata": {
  "kernelspec": {
   "display_name": "Python 3 (ipykernel)",
   "language": "python",
   "name": "python3"
  },
  "language_info": {
   "codemirror_mode": {
    "name": "ipython",
    "version": 3
   },
   "file_extension": ".py",
   "mimetype": "text/x-python",
   "name": "python",
   "nbconvert_exporter": "python",
   "pygments_lexer": "ipython3",
   "version": "3.10.6"
  }
 },
 "nbformat": 4,
 "nbformat_minor": 5
}
