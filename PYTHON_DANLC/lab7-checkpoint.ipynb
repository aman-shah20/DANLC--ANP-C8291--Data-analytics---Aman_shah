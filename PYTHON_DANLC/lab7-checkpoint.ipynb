{
 "cells": [
  {
   "cell_type": "code",
   "execution_count": 5,
   "id": "bf1a271d-0053-40dd-9424-a74066648d38",
   "metadata": {},
   "outputs": [
    {
     "name": "stdout",
     "output_type": "stream",
     "text": [
      "char=8 digits=3 special character=4\n"
     ]
    }
   ],
   "source": [
    "#1. Write a Python program to Count all letters, digits, and special symbols from the given string \n",
    "#Input = “P@#yn26at^&i5ve” \n",
    "#Output: Chars = 8 Digits = 2 Symbol = 3 \n",
    "\n",
    "\n",
    "str = \"P@#yn26at^&i5ve\"\n",
    "count_alpha=0\n",
    "count_num=0\n",
    "count_spc=0\n",
    "\n",
    "for i in str:\n",
    "    if i.isalpha():\n",
    "        count_alpha += 1\n",
    "    elif i.isdigit():\n",
    "        count_num += 1\n",
    "    else:\n",
    "        count_spc += 1\n",
    "        \n",
    "print(f\"char={count_alpha} digits={count_num} special character={count_spc}\")"
   ]
  },
  {
   "cell_type": "code",
   "execution_count": 19,
   "id": "08f1a6c6-61c7-4d8a-abc4-02a7dfbe9b90",
   "metadata": {},
   "outputs": [
    {
     "name": "stdout",
     "output_type": "stream",
     "text": [
      "{'Function', 'String', 'and'}\n"
     ]
    }
   ],
   "source": [
    "#2. Write a Python program to remove duplicate characters of a given string. \n",
    "#Input = “String and String Function” \n",
    "#Output: String and Function\n",
    "\n",
    "str1 = \"String and String Function\"\n",
    "str1 = str1.split()\n",
    "cu = set()\n",
    "\n",
    "for i in str1:\n",
    "    cu.add(i)\n",
    "\n",
    "#str1=str(cu)\n",
    "print(cu)"
   ]
  },
  {
   "cell_type": "code",
   "execution_count": 22,
   "id": "6b7559b1-1f6f-41ba-89e8-29103903cf31",
   "metadata": {},
   "outputs": [
    {
     "name": "stdout",
     "output_type": "stream",
     "text": [
      "uppercase=5 lowercase=18 specialchr=11 countnum=5\n"
     ]
    }
   ],
   "source": [
    "#3. Write a Python program to count Uppercase, Lowercase, special character and numeric values in a given string \n",
    "# Input = “Hell0 W0rld ! 123 * # welcome to pYtHoN” \n",
    "# Output: UpperCase : 5 LowerCase : 18 NumberCase : 5 SpecialCase : 11 \n",
    "\n",
    "\n",
    "string = \"Hell0 W0rld ! 123 * # welcome to pYtHoN\" \n",
    "countupper=0\n",
    "countlower=0\n",
    "countspecialchr=0\n",
    "countnum=0\n",
    "\n",
    "for i in string:\n",
    "    if i.isupper():\n",
    "        countupper +=1\n",
    "    elif i.islower():\n",
    "        countlower +=1\n",
    "    elif i.isdigit():\n",
    "        countnum +=1\n",
    "    else:\n",
    "        countspecialchr +=1\n",
    "\n",
    "print(f\"uppercase={countupper} lowercase={countlower} specialchr={countspecialchr} countnum={countnum}\")\n"
   ]
  },
  {
   "cell_type": "code",
   "execution_count": 31,
   "id": "441f6de3-e9b9-4186-8ac8-329a10b4f081",
   "metadata": {},
   "outputs": [
    {
     "name": "stdout",
     "output_type": "stream",
     "text": [
      "Output: Total vowels are 8\n"
     ]
    }
   ],
   "source": [
    "#4. Write a Python Count vowels in a string input= “Welcome to Python Assignment” Output: Total vowels are: 8\n",
    "\n",
    "string = \"Welcome to Python Assignment\"\n",
    "count=0\n",
    "for i in string:\n",
    "    if i in \"aeiouAEIOU\":\n",
    "        count+=1\n",
    "print( \"Output: Total vowels are\",count)"
   ]
  }
 ],
 "metadata": {
  "kernelspec": {
   "display_name": "Python 3 (ipykernel)",
   "language": "python",
   "name": "python3"
  },
  "language_info": {
   "codemirror_mode": {
    "name": "ipython",
    "version": 3
   },
   "file_extension": ".py",
   "mimetype": "text/x-python",
   "name": "python",
   "nbconvert_exporter": "python",
   "pygments_lexer": "ipython3",
   "version": "3.10.6"
  }
 },
 "nbformat": 4,
 "nbformat_minor": 5
}
